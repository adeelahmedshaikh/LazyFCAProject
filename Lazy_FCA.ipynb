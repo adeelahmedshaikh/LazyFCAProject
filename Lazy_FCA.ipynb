{
  "nbformat": 4,
  "nbformat_minor": 0,
  "metadata": {
    "colab": {
      "provenance": []
    },
    "kernelspec": {
      "name": "python3",
      "display_name": "Python 3"
    },
    "language_info": {
      "name": "python"
    }
  },
  "cells": [
    {
      "cell_type": "code",
      "source": [
        "import pandas as pd\n",
        "import numpy as np\n",
        "\n",
        "# Load the dataset\n",
        "df = pd.read_csv('diabetes.csv')\n",
        "\n",
        "# Function to create binary columns\n",
        "def create_binary_columns(df, column, thresholds, prefix, is_inter_ordinal=False):\n",
        "    for threshold in thresholds:\n",
        "        if is_inter_ordinal:\n",
        "            df[f'{prefix}<={threshold}'] = (df[column] <= threshold).astype(int)\n",
        "            df[f'{prefix}>={threshold}'] = (df[column] >= threshold).astype(int)\n",
        "        else:\n",
        "            df[f'{prefix}>={threshold}'] = (df[column] >= threshold).astype(int)\n",
        "    return df\n",
        "\n",
        "# Binarize each feature\n",
        "df = create_binary_columns(df, 'Pregnancies', [1, 3, 6], 'Preg')\n",
        "df = create_binary_columns(df, 'Glucose', [100, 125, 140], 'Gluc', True)\n",
        "df = create_binary_columns(df, 'BloodPressure', [60, 80, 90, 120], 'BP', True)\n",
        "df = create_binary_columns(df, 'SkinThickness', [20, 25, 30], 'ST')\n",
        "df = create_binary_columns(df, 'Insulin', [100, 150, 200], 'Ins')\n",
        "df = create_binary_columns(df, 'BMI', [18.5, 25, 30, 35], 'BMI', True)\n",
        "df = create_binary_columns(df, 'DiabetesPedigreeFunction', [0.5, 1, 1.5], 'DPF')\n",
        "df = create_binary_columns(df, 'Age', [30, 45, 60], 'Age', True)\n",
        "\n",
        "# Binarize Outcome\n",
        "df['Diabetic'] = df['Outcome']\n",
        "df['Not_Diabetic'] = 1 - df['Outcome']\n",
        "\n",
        "# Drop original columns\n",
        "df = df.drop(['Pregnancies', 'Glucose', 'BloodPressure', 'SkinThickness', 'Insulin', 'BMI', 'DiabetesPedigreeFunction', 'Age', 'Outcome'], axis=1)\n",
        "\n",
        "# Save the binarized dataset\n",
        "df.to_csv('binarized_diabetes.csv', index=False)\n",
        "# Display the first few rows of the binarized dataset\n",
        "print(df.head())"
      ],
      "metadata": {
        "colab": {
          "base_uri": "https://localhost:8080/"
        },
        "id": "okhJ0lX_UYcB",
        "outputId": "dded1aa5-57cb-450a-f723-79f6a0288c05"
      },
      "execution_count": 3,
      "outputs": [
        {
          "output_type": "stream",
          "name": "stdout",
          "text": [
            "   Preg>=1  Preg>=3  Preg>=6  Gluc<=100  Gluc>=100  Gluc<=125  Gluc>=125  \\\n",
            "0        1        1        1          0          1          0          1   \n",
            "1        1        0        0          1          0          1          0   \n",
            "2        1        1        1          0          1          0          1   \n",
            "3        1        0        0          1          0          1          0   \n",
            "4        0        0        0          0          1          0          1   \n",
            "\n",
            "   Gluc<=140  Gluc>=140  BP<=60  ...  DPF>=1  DPF>=1.5  Age<=30  Age>=30  \\\n",
            "0          0          1       0  ...       0         0        0        1   \n",
            "1          1          0       0  ...       0         0        0        1   \n",
            "2          0          1       0  ...       0         0        0        1   \n",
            "3          1          0       0  ...       0         0        1        0   \n",
            "4          1          0       1  ...       1         1        0        1   \n",
            "\n",
            "   Age<=45  Age>=45  Age<=60  Age>=60  Diabetic  Not_Diabetic  \n",
            "0        0        1        1        0         1             0  \n",
            "1        1        0        1        0         0             1  \n",
            "2        1        0        1        0         1             0  \n",
            "3        1        0        1        0         0             1  \n",
            "4        1        0        1        0         1             0  \n",
            "\n",
            "[5 rows x 42 columns]\n"
          ]
        }
      ]
    }
  ]
}